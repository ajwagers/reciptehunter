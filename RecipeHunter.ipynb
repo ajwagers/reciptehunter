{
 "cells": [
  {
   "cell_type": "markdown",
   "metadata": {},
   "source": [
    "Recipe Hunter\n",
    "\n",
    "Run all and input information when requested."
   ]
  },
  {
   "cell_type": "code",
   "execution_count": 64,
   "metadata": {},
   "outputs": [],
   "source": [
    "import requests\n",
    "import pandas as pd\n",
    "from pprint import pprint\n",
    "import textwrap\n",
    "import os\n",
    "from pathlib import Path\n",
    "\n",
    "# Get notebook current folder path\n",
    "notebook_dir = Path().absolute()  \n",
    "\n",
    "# Concatenate with .env file name\n",
    "env_path = notebook_dir / 'recipehunter.env'  \n",
    "\n",
    "with open(env_path) as f:\n",
    "    env_vars = f.readlines()\n",
    "    \n",
    "API_KEY = str([x.strip().split('=')[-1] for x in env_vars if x.startswith('API_KEY')][0])\n",
    "\n",
    "#print(API_KEY)"
   ]
  },
  {
   "cell_type": "code",
   "execution_count": 65,
   "metadata": {},
   "outputs": [],
   "source": [
    "# List of ingredients to search for recipes \n",
    "#ingredients = ['pasta', 'broccoli', 'onion']\n",
    "ingredients = input(\"Enter ingredients separated by comma: \").split(\", \")\n",
    "ingr_str = '%2C'.join(ingredients)"
   ]
  },
  {
   "cell_type": "code",
   "execution_count": 66,
   "metadata": {},
   "outputs": [],
   "source": [
    "#List ingredients to avoid\n",
    "#avoid = ['tomato','milk','cheese']\n",
    "avoid = input(\"Enter ingredients to avoid: \").split(\", \")\n",
    "avoid_str = \"%2C\".join(avoid)"
   ]
  },
  {
   "cell_type": "code",
   "execution_count": 67,
   "metadata": {},
   "outputs": [],
   "source": [
    "# Check for common ingredients\n",
    "common_ings = set(ingredients).intersection(avoid)\n",
    "if common_ings:\n",
    "    print(f\"Ingredients {', '.join(common_ings)} appear in both lists. Please revise inputs.\")\n",
    "    exit()"
   ]
  },
  {
   "cell_type": "code",
   "execution_count": 68,
   "metadata": {},
   "outputs": [
    {
     "name": "stdout",
     "output_type": "stream",
     "text": [
      "<Response [200]>\n"
     ]
    }
   ],
   "source": [
    "# Spoonacular recipe search API URL\n",
    "api_url = f'https://api.spoonacular.com/recipes/findByIngredients?ingredients={ingr_str}&apiKey={API_KEY}'  \n",
    "#api_url = f'https://api.spoonacular.com/recipes/findByIngredients?ingredients={ingr_str}&avoidIngredients={avoid_str}&apiKey={API_KEY}'  \n",
    "\n",
    "\n",
    "# Make request to API\n",
    "res = requests.get(api_url)\n",
    "print(res)\n",
    "data = res.json()\n",
    "recipes_df = pd.DataFrame(data)\n",
    "#recipes_df.head()"
   ]
  },
  {
   "cell_type": "code",
   "execution_count": 69,
   "metadata": {},
   "outputs": [],
   "source": [
    "# Filter recipes with ingredients we want to avoid\n",
    "for avoid_ingr in avoid:\n",
    "    recipes_df = recipes_df[~recipes_df['missedIngredients'].apply(lambda x: avoid_ingr in str(x))]\n",
    "\n",
    "filtered_recipes = []\n",
    "for recipe in data:\n",
    "    if not any(avoid_ingr in recipe['missedIngredients'] for avoid_ingr in avoid):\n",
    "        filtered_recipes.append(recipe)\n",
    "\n",
    "#for recipe in filtered_recipes:\n",
    "#    print(recipe['title'])\n",
    "#    print(f\"Used Ingredients: {recipe['usedIngredientCount']}\") \n",
    "#    print(f\"Missed Ingredients: {recipe['missedIngredientCount']}\")\n",
    "#    print('-'*40)\n",
    "\n",
    "#print(\"Filtered Recipes:\")  \n",
    "#recipes_df.head()"
   ]
  },
  {
   "cell_type": "code",
   "execution_count": 70,
   "metadata": {},
   "outputs": [
    {
     "name": "stdout",
     "output_type": "stream",
     "text": [
      "Filtered Recipes:\n",
      "1. Crispy Buttermilk Fried Chicken\n",
      "2. Zucchini Chicken Omelette\n",
      "3. Lemon and Garlic Slow Roasted Chicken\n",
      "4. Slow Cooker Rosemary Whole Chicken\n",
      "5. All Day Simple Slow-Cooker FALL OFF the BONE Ribs\n",
      "6. Easy Chicken Pot Pie\n",
      "7. Skillet Roasted Chicken & Potatoes\n",
      "8. Chicken Suya\n",
      "9. Buffalo Chicken Wings Wonton Wraps\n",
      "10. Turbo Chicken\n",
      "\n",
      "Zucchini Chicken Omelette\n",
      "Full Ingredients:\n",
      "eggs, water, zucchini, salt and pepper, oil, milanese chicken left over\n",
      "\n",
      "Summary:\n",
      "\n",
      "Zucchini Chicken Omelette might be a good recipe to expand your main course recipe box. This recipe serves 2. Watching\n",
      "your figure? This gluten free, dairy free, fodmap friendly, and whole 30 recipe has <b>210 calories</b>, <b>13g of\n",
      "protein</b>, and <b>16g of fat</b> per serving. For <b>72 cents per serving</b>, this recipe <b>covers 11%</b> of your\n",
      "daily requirements of vitamins and minerals. This recipe from Foodista has 6 fans. If you have milanese chicken left\n",
      "over, oil, salt and pepper, and a few other ingredients on hand, you can make it. From preparation to the plate, this\n",
      "recipe takes roughly <b>45 minutes</b>. All things considered, we decided this recipe <b>deserves a spoonacular score of\n",
      "43%</b>. This score is solid. If you like this recipe, you might also like recipes such as <a\n",
      "href=\"https://spoonacular.com/recipes/tomato-omelette-how-to-make-tomato-omelette-veg-omelette-488816\">tomato omelette ,\n",
      "how to make tomato omelette | veg omelette</a>, <a href=\"https://spoonacular.com/recipes/tomato-omelette-how-to-make-\n",
      "tomato-omelette-veg-omelette-1223613\">tomato omelette , how to make tomato omelette | veg omelette</a>, and <a\n",
      "href=\"https://spoonacular.com/recipes/mushroom-omelette-how-to-make-mushroom-cheese-omelette-488467\">Mushroom Omelette ,\n",
      "How to make Mushroom Cheese Omelette</a>.\n",
      "https://www.foodista.com/recipe/TPJ6QNBY/zucchini-chicken-omelette\n"
     ]
    }
   ],
   "source": [
    "# Code to get filtered_recipes list \n",
    "\n",
    "print(\"Filtered Recipes:\")\n",
    "for i, r in enumerate(filtered_recipes):\n",
    "    print(f\"{i+1}. {r['title']}\")\n",
    "    \n",
    "choice = int(input(\"Enter recipe number to get details: \"))\n",
    "chosen_recipe = filtered_recipes[choice-1]\n",
    "\n",
    "url2 = f\"https://api.spoonacular.com/recipes/{chosen_recipe['id']}/information?apiKey={API_KEY}\"\n",
    "res2 = requests.get(url2)\n",
    "data2 = res2.json()\n",
    "\n",
    "print(f\"\\n{chosen_recipe['title']}\")\n",
    "print(\"Full Ingredients:\")\n",
    "print(\", \".join([item['name'] for item in data2['extendedIngredients']]))\n",
    "\n",
    "url3 = f\"https://api.spoonacular.com/recipes/{chosen_recipe['id']}/summary?apiKey={API_KEY}\"\n",
    "res3 = requests.get(url3)\n",
    "data3 = res3.json()\n",
    "\n",
    "print(f\"\\nSummary:\\n\")\n",
    "\n",
    "# Set width limit \n",
    "lim = 120  \n",
    "\n",
    "# Wrap text  \n",
    "wrapped_summary = textwrap.fill(data3['summary'], width=lim)\n",
    "\n",
    "# Print wrapped text\n",
    "print(wrapped_summary)\n",
    "\n",
    "print(data2['sourceUrl'])"
   ]
  }
 ],
 "metadata": {
  "kernelspec": {
   "display_name": "Python 3",
   "language": "python",
   "name": "python3"
  },
  "language_info": {
   "codemirror_mode": {
    "name": "ipython",
    "version": 3
   },
   "file_extension": ".py",
   "mimetype": "text/x-python",
   "name": "python",
   "nbconvert_exporter": "python",
   "pygments_lexer": "ipython3",
   "version": "3.11.2"
  }
 },
 "nbformat": 4,
 "nbformat_minor": 2
}
